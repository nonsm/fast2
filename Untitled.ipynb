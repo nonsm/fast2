{
 "cells": [
  {
   "cell_type": "markdown",
   "id": "cfca8456-f39e-46fb-bed5-d3c9f2cffae6",
   "metadata": {},
   "source": [
    "fast2 sample"
   ]
  },
  {
   "cell_type": "code",
   "execution_count": 1,
   "id": "2450d853-1baf-448c-925a-ecb0536e577d",
   "metadata": {},
   "outputs": [
    {
     "ename": "NameError",
     "evalue": "name 'hfghgf' is not defined",
     "output_type": "error",
     "traceback": [
      "\u001b[0;31m---------------------------------------------------------------------------\u001b[0m",
      "\u001b[0;31mNameError\u001b[0m                                 Traceback (most recent call last)",
      "Input \u001b[0;32mIn [1]\u001b[0m, in \u001b[0;36m<cell line: 1>\u001b[0;34m()\u001b[0m\n\u001b[0;32m----> 1\u001b[0m \u001b[43mhfghgf\u001b[49m\n",
      "\u001b[0;31mNameError\u001b[0m: name 'hfghgf' is not defined"
     ]
    }
   ],
   "source": [
    "hfghgf"
   ]
  },
  {
   "cell_type": "markdown",
   "id": "e57d6463-2715-484e-8190-2c3352ee3068",
   "metadata": {},
   "source": [
    "1bmbmbmhb\n"
   ]
  },
  {
   "cell_type": "code",
   "execution_count": null,
   "id": "fb227557-59b2-4c02-8bc6-b690802a6ec4",
   "metadata": {},
   "outputs": [],
   "source": []
  }
 ],
 "metadata": {
  "kernelspec": {
   "display_name": "Python 3 (ipykernel)",
   "language": "python",
   "name": "python3"
  },
  "language_info": {
   "codemirror_mode": {
    "name": "ipython",
    "version": 3
   },
   "file_extension": ".py",
   "mimetype": "text/x-python",
   "name": "python",
   "nbconvert_exporter": "python",
   "pygments_lexer": "ipython3",
   "version": "3.9.13"
  }
 },
 "nbformat": 4,
 "nbformat_minor": 5
}
